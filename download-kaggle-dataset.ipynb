{
 "cells": [
  {
   "cell_type": "code",
   "execution_count": 3,
   "metadata": {},
   "outputs": [],
   "source": [
    "import kaggle\n",
    "import os\n",
    "os.environ['KAGGLE_CONFIG_DIR'] = '../../.kaggle/'"
   ]
  },
  {
   "cell_type": "code",
   "execution_count": 4,
   "metadata": {},
   "outputs": [
    {
     "name": "stdout",
     "output_type": "stream",
     "text": [
      "Downloading jigsaw-toxic-comment-classification-challenge.zip to /home/edward/courses/Pradip-Nitchie-Youtube-Tutorials\n",
      " 99%|█████████████████████████████████████▌| 52.0M/52.6M [00:09<00:00, 7.14MB/s]\n",
      "100%|██████████████████████████████████████| 52.6M/52.6M [00:09<00:00, 5.86MB/s]\n"
     ]
    }
   ],
   "source": [
    "# Downloading dataets from kaggle\n",
    "!kaggle competitions download -c jigsaw-toxic-comment-classification-challenge"
   ]
  },
  {
   "cell_type": "code",
   "execution_count": 6,
   "metadata": {},
   "outputs": [],
   "source": [
    "# Create Folder for dataset\n",
    "%mkdir toxic-comments"
   ]
  },
  {
   "cell_type": "code",
   "execution_count": 10,
   "metadata": {},
   "outputs": [
    {
     "name": "stdout",
     "output_type": "stream",
     "text": [
      "Archive:  jigsaw-toxic-comment-classification-challenge.zip\n",
      "  inflating: ./toxic-comments-dataset/sample_submission.csv.zip  \n",
      "  inflating: ./toxic-comments-dataset/test.csv.zip  \n",
      "  inflating: ./toxic-comments-dataset/test_labels.csv.zip  \n",
      "  inflating: ./toxic-comments-dataset/train.csv.zip  \n"
     ]
    }
   ],
   "source": [
    "# Unzip to particular folder\n",
    "!unzip jigsaw-toxic-comment-classification-challenge.zip -d ./toxic-comments-dataset"
   ]
  },
  {
   "cell_type": "code",
   "execution_count": 14,
   "metadata": {},
   "outputs": [
    {
     "name": "stdout",
     "output_type": "stream",
     "text": [
      "Archive:  ./toxic-comments-dataset/test.csv.zip\n",
      "  inflating: ./toxic-comments-dataset/test.csv  \n",
      "\n",
      "Archive:  ./toxic-comments-dataset/sample_submission.csv.zip\n",
      "  inflating: ./toxic-comments-dataset/sample_submission.csv  \n",
      "\n",
      "Archive:  ./toxic-comments-dataset/test_labels.csv.zip\n",
      "  inflating: ./toxic-comments-dataset/test_labels.csv  \n",
      "\n",
      "Archive:  ./toxic-comments-dataset/train.csv.zip\n",
      "  inflating: ./toxic-comments-dataset/train.csv  \n",
      "\n",
      "4 archives were successfully processed.\n"
     ]
    }
   ],
   "source": [
    "# Unzip multiple files\n",
    "!unzip './toxic-comments-dataset/*.zip' -d ./toxic-comments-dataset"
   ]
  },
  {
   "cell_type": "code",
   "execution_count": null,
   "metadata": {},
   "outputs": [],
   "source": []
  }
 ],
 "metadata": {
  "kernelspec": {
   "display_name": "Python 3.9.13 ('nlp')",
   "language": "python",
   "name": "python3"
  },
  "language_info": {
   "codemirror_mode": {
    "name": "ipython",
    "version": 3
   },
   "file_extension": ".py",
   "mimetype": "text/x-python",
   "name": "python",
   "nbconvert_exporter": "python",
   "pygments_lexer": "ipython3",
   "version": "3.9.13"
  },
  "orig_nbformat": 4,
  "vscode": {
   "interpreter": {
    "hash": "2c8084c65e210ac80286b37f95520e6539b9c1b96da2c782bc032c2b0e58e412"
   }
  }
 },
 "nbformat": 4,
 "nbformat_minor": 2
}
