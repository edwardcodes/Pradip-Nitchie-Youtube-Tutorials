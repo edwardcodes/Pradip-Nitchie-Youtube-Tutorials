{
  "cells": [
    {
      "cell_type": "markdown",
      "metadata": {
        "colab_type": "text",
        "id": "view-in-github"
      },
      "source": [
        "<a href=\"https://colab.research.google.com/github/PradipNichite/Youtube-Tutorials/blob/main/Youtube_NLP_Text_Representaion.ipynb\" target=\"_parent\"><img src=\"https://colab.research.google.com/assets/colab-badge.svg\" alt=\"Open In Colab\"/></a>"
      ]
    },
    {
      "cell_type": "code",
      "execution_count": null,
      "metadata": {
        "id": "FdzmhPLk8fd9"
      },
      "outputs": [],
      "source": [
        "# !pip install sklearn -q\n",
        "# !pip install spacy -q\n",
        "# !python -m spacy download en_core_web_sm"
      ]
    },
    {
      "cell_type": "code",
      "execution_count": null,
      "metadata": {
        "id": "rynjIW1f87JV"
      },
      "outputs": [],
      "source": [
        "import numpy as np\n",
        "import pandas as pd \n",
        "\n",
        "from sklearn.feature_extraction.text import CountVectorizer,TfidfVectorizer\n",
        "from sklearn import metrics\n",
        "\n",
        "import string\n",
        "import spacy\n",
        "np.random.seed(42)"
      ]
    },
    {
      "cell_type": "code",
      "execution_count": null,
      "metadata": {
        "colab": {
          "base_uri": "https://localhost:8080/",
          "height": 296
        },
        "id": "e_gu1HyO9GLv",
        "outputId": "1e20c635-ff4c-4475-ab6a-787f0631c4f3"
      },
      "outputs": [
        {
          "name": "stderr",
          "output_type": "stream",
          "text": [
            "/usr/local/lib/python3.7/dist-packages/IPython/core/interactiveshell.py:3326: FutureWarning: The error_bad_lines argument has been deprecated and will be removed in a future version.\n",
            "\n",
            "\n",
            "  exec(code_obj, self.user_global_ns, self.user_ns)\n"
          ]
        },
        {
          "data": {
            "text/html": [
              "\n",
              "  <div id=\"df-a907e7d9-63c0-4dac-bd17-253cfb5b21ff\">\n",
              "    <div class=\"colab-df-container\">\n",
              "      <div>\n",
              "<style scoped>\n",
              "    .dataframe tbody tr th:only-of-type {\n",
              "        vertical-align: middle;\n",
              "    }\n",
              "\n",
              "    .dataframe tbody tr th {\n",
              "        vertical-align: top;\n",
              "    }\n",
              "\n",
              "    .dataframe thead th {\n",
              "        text-align: right;\n",
              "    }\n",
              "</style>\n",
              "<table border=\"1\" class=\"dataframe\">\n",
              "  <thead>\n",
              "    <tr style=\"text-align: right;\">\n",
              "      <th></th>\n",
              "      <th>comment_text</th>\n",
              "      <th>toxic</th>\n",
              "    </tr>\n",
              "  </thead>\n",
              "  <tbody>\n",
              "    <tr>\n",
              "      <th>0</th>\n",
              "      <td>Your knowledge of Hebrew? Thank god that Jossi...</td>\n",
              "      <td>0</td>\n",
              "    </tr>\n",
              "    <tr>\n",
              "      <th>1</th>\n",
              "      <td>==Tablighi Jamaat and allegations of terrorism...</td>\n",
              "      <td>0</td>\n",
              "    </tr>\n",
              "    <tr>\n",
              "      <th>2</th>\n",
              "      <td>\"\\nWell it's understandable not wanting the in...</td>\n",
              "      <td>0</td>\n",
              "    </tr>\n",
              "    <tr>\n",
              "      <th>3</th>\n",
              "      <td>\"\\n\\n Please stop adding nonsense to Wikipedia...</td>\n",
              "      <td>0</td>\n",
              "    </tr>\n",
              "    <tr>\n",
              "      <th>4</th>\n",
              "      <td>Saint Petersburg\\nPlease, leave the sister cit...</td>\n",
              "      <td>0</td>\n",
              "    </tr>\n",
              "  </tbody>\n",
              "</table>\n",
              "</div>\n",
              "      <button class=\"colab-df-convert\" onclick=\"convertToInteractive('df-a907e7d9-63c0-4dac-bd17-253cfb5b21ff')\"\n",
              "              title=\"Convert this dataframe to an interactive table.\"\n",
              "              style=\"display:none;\">\n",
              "        \n",
              "  <svg xmlns=\"http://www.w3.org/2000/svg\" height=\"24px\"viewBox=\"0 0 24 24\"\n",
              "       width=\"24px\">\n",
              "    <path d=\"M0 0h24v24H0V0z\" fill=\"none\"/>\n",
              "    <path d=\"M18.56 5.44l.94 2.06.94-2.06 2.06-.94-2.06-.94-.94-2.06-.94 2.06-2.06.94zm-11 1L8.5 8.5l.94-2.06 2.06-.94-2.06-.94L8.5 2.5l-.94 2.06-2.06.94zm10 10l.94 2.06.94-2.06 2.06-.94-2.06-.94-.94-2.06-.94 2.06-2.06.94z\"/><path d=\"M17.41 7.96l-1.37-1.37c-.4-.4-.92-.59-1.43-.59-.52 0-1.04.2-1.43.59L10.3 9.45l-7.72 7.72c-.78.78-.78 2.05 0 2.83L4 21.41c.39.39.9.59 1.41.59.51 0 1.02-.2 1.41-.59l7.78-7.78 2.81-2.81c.8-.78.8-2.07 0-2.86zM5.41 20L4 18.59l7.72-7.72 1.47 1.35L5.41 20z\"/>\n",
              "  </svg>\n",
              "      </button>\n",
              "      \n",
              "  <style>\n",
              "    .colab-df-container {\n",
              "      display:flex;\n",
              "      flex-wrap:wrap;\n",
              "      gap: 12px;\n",
              "    }\n",
              "\n",
              "    .colab-df-convert {\n",
              "      background-color: #E8F0FE;\n",
              "      border: none;\n",
              "      border-radius: 50%;\n",
              "      cursor: pointer;\n",
              "      display: none;\n",
              "      fill: #1967D2;\n",
              "      height: 32px;\n",
              "      padding: 0 0 0 0;\n",
              "      width: 32px;\n",
              "    }\n",
              "\n",
              "    .colab-df-convert:hover {\n",
              "      background-color: #E2EBFA;\n",
              "      box-shadow: 0px 1px 2px rgba(60, 64, 67, 0.3), 0px 1px 3px 1px rgba(60, 64, 67, 0.15);\n",
              "      fill: #174EA6;\n",
              "    }\n",
              "\n",
              "    [theme=dark] .colab-df-convert {\n",
              "      background-color: #3B4455;\n",
              "      fill: #D2E3FC;\n",
              "    }\n",
              "\n",
              "    [theme=dark] .colab-df-convert:hover {\n",
              "      background-color: #434B5C;\n",
              "      box-shadow: 0px 1px 3px 1px rgba(0, 0, 0, 0.15);\n",
              "      filter: drop-shadow(0px 1px 2px rgba(0, 0, 0, 0.3));\n",
              "      fill: #FFFFFF;\n",
              "    }\n",
              "  </style>\n",
              "\n",
              "      <script>\n",
              "        const buttonEl =\n",
              "          document.querySelector('#df-a907e7d9-63c0-4dac-bd17-253cfb5b21ff button.colab-df-convert');\n",
              "        buttonEl.style.display =\n",
              "          google.colab.kernel.accessAllowed ? 'block' : 'none';\n",
              "\n",
              "        async function convertToInteractive(key) {\n",
              "          const element = document.querySelector('#df-a907e7d9-63c0-4dac-bd17-253cfb5b21ff');\n",
              "          const dataTable =\n",
              "            await google.colab.kernel.invokeFunction('convertToInteractive',\n",
              "                                                     [key], {});\n",
              "          if (!dataTable) return;\n",
              "\n",
              "          const docLinkHtml = 'Like what you see? Visit the ' +\n",
              "            '<a target=\"_blank\" href=https://colab.research.google.com/notebooks/data_table.ipynb>data table notebook</a>'\n",
              "            + ' to learn more about interactive tables.';\n",
              "          element.innerHTML = '';\n",
              "          dataTable['output_type'] = 'display_data';\n",
              "          await google.colab.output.renderOutput(dataTable, element);\n",
              "          const docLink = document.createElement('div');\n",
              "          docLink.innerHTML = docLinkHtml;\n",
              "          element.appendChild(docLink);\n",
              "        }\n",
              "      </script>\n",
              "    </div>\n",
              "  </div>\n",
              "  "
            ],
            "text/plain": [
              "                                        comment_text  toxic\n",
              "0  Your knowledge of Hebrew? Thank god that Jossi...      0\n",
              "1  ==Tablighi Jamaat and allegations of terrorism...      0\n",
              "2  \"\\nWell it's understandable not wanting the in...      0\n",
              "3  \"\\n\\n Please stop adding nonsense to Wikipedia...      0\n",
              "4  Saint Petersburg\\nPlease, leave the sister cit...      0"
            ]
          },
          "execution_count": 2,
          "metadata": {},
          "output_type": "execute_result"
        }
      ],
      "source": [
        "data = pd.read_csv(\"/content/drive/MyDrive/Content Creation/Youtube Tutorials/datasets/toxic_commnets_500.csv\",error_bad_lines=False, engine=\"python\")\n",
        "data.head()"
      ]
    },
    {
      "cell_type": "code",
      "execution_count": null,
      "metadata": {
        "colab": {
          "base_uri": "https://localhost:8080/"
        },
        "id": "oL9T6rcV-Mn1",
        "outputId": "5e8ec857-875d-494f-ff45-a74195490787"
      },
      "outputs": [
        {
          "name": "stdout",
          "output_type": "stream",
          "text": [
            "{'is', 'besides', '‘m', 'go', 'regarding', 'whither', 'who', 'nowhere', 'any', 'whereby', '‘s', 'all', 'bottom', 'nevertheless', 'yourself', 'wherever', 'ourselves', 'most', 'nor', 'same', 'since', 'please', 'beforehand', 'back', 'may', 'then', 'make', 'however', 'because', 'becomes', 'on', 'thereafter', 'within', '‘d', '’re', 'was', 'have', 'her', 'alone', 'everyone', 'anyhow', 'towards', 'of', 'name', 'nothing', 'whom', 'once', 'therein', 'some', 'none', 'latter', 'mine', 'such', 'ever', 'never', 'you', 'themselves', 'their', '’d', 'see', 'meanwhile', 'others', 'are', 'not', 'hereafter', 'too', 'whose', 'n‘t', 'somewhere', 'them', 'him', 'that', 'hers', 'thereupon', 'were', 'up', \"'m\", 'whereupon', 'therefore', 'about', 'both', 'us', 'she', 'be', 'keep', 'been', 'mostly', 'someone', 'anyone', 'beyond', 'always', 'formerly', 'otherwise', 'fifteen', 'could', 'rather', 'down', 'yourselves', 'at', 'in', 'each', 'latterly', 'your', 'put', 'ca', 'what', 'already', 'thereby', 'unless', 'six', 'either', 'further', 'being', '‘ll', 'amount', 'cannot', 'over', 'neither', 'off', 'n’t', 'made', 'there', 'under', 'he', 'anything', '’s', 'fifty', 'various', 'eight', 'via', 'show', 'the', 'part', 'ours', 'side', 'own', 'and', 'more', 'should', 'as', \"'ve\", 'where', 'although', 'used', 'together', 'than', 'top', 'through', 'again', 'those', 'doing', 'whole', 'sometimes', 'get', 'last', 'moreover', 'even', 'well', 'thence', 'take', 'thru', 'below', 'by', 'eleven', 'myself', 'hundred', 'or', 'with', 'into', 'noone', 'against', 'along', 'to', 'among', \"'re\", 'really', 'everywhere', 'seem', 'afterwards', '’m', 'until', 'four', 'one', 'much', 'if', 'without', 'its', 'per', 'out', 'so', 'something', 'several', 'hereupon', 'quite', 'they', \"'d\", 'whenever', 'anywhere', 'around', 'might', 'almost', 'still', 'whereafter', 'serious', 'also', 'for', 'has', 'onto', 'nine', 'my', 'when', 'front', 're', 'twelve', 'just', 'across', 'while', \"n't\", 'will', 'yet', 'two', 'twenty', \"'ll\", 'call', 'due', 'after', 'itself', '‘ve', 'whoever', 'before', 'it', 'give', 'this', 'from', 'done', 'only', 'an', '‘re', 'third', 'now', 'perhaps', 'somehow', 'except', 'full', 'using', 'few', 'wherein', 'we', 'anyway', 'seems', 'these', 'whereas', 'our', 'had', 'though', 'seemed', 'sixty', 'become', 'whether', 'other', 'but', 'no', 'beside', 'hereby', 'least', 'another', \"'s\", 'behind', 'did', 'forty', '’ll', 'his', 'enough', 'here', 'which', 'herein', 'throughout', 'thus', 'everything', 'how', 'whence', 'toward', 'above', 'am', 'amongst', 'very', 'elsewhere', 'often', 'a', 'former', 'indeed', 'ten', 'does', 'do', 'himself', 'upon', 'say', 'first', 'becoming', 'why', 'yours', 'seeming', 'many', 'hence', 'else', 'would', 'whatever', 'next', 'every', '’ve', 'can', 'me', 'sometime', 'three', 'less', 'empty', 'during', 'must', 'nobody', 'herself', 'namely', 'i', 'move', 'five', 'between', 'became'}\n"
          ]
        }
      ],
      "source": [
        "nlp = spacy.load(\"en_core_web_sm\")\n",
        "stop_words = nlp.Defaults.stop_words\n",
        "print(stop_words)"
      ]
    },
    {
      "cell_type": "code",
      "execution_count": null,
      "metadata": {
        "colab": {
          "base_uri": "https://localhost:8080/"
        },
        "id": "7V1TAxcI-jec",
        "outputId": "ba404283-3d76-44b0-ea3e-2201f49fd997"
      },
      "outputs": [
        {
          "name": "stdout",
          "output_type": "stream",
          "text": [
            "!\"#$%&'()*+,-./:;<=>?@[\\]^_`{|}~\n"
          ]
        }
      ],
      "source": [
        "punctuations = string.punctuation\n",
        "print(punctuations)"
      ]
    },
    {
      "cell_type": "code",
      "execution_count": null,
      "metadata": {
        "id": "VpoOBYrk-rSl"
      },
      "outputs": [],
      "source": [
        "# Creating our tokenizer function\n",
        "def spacy_tokenizer(sentence):\n",
        "    # Creating our token object, which is used to create documents with linguistic annotations.\n",
        "    doc = nlp(sentence)\n",
        "\n",
        "\n",
        "\n",
        "    # print(doc)\n",
        "    # print(type(doc))\n",
        "\n",
        "    # Lemmatizing each token and converting each token into lowercase\n",
        "    mytokens = [ word.lemma_.lower().strip() for word in doc ]\n",
        "\n",
        "    # print(mytokens)\n",
        "\n",
        "    # Removing stop words\n",
        "    mytokens = [ word for word in mytokens if word not in stop_words and word not in punctuations ]\n",
        "\n",
        "    # return preprocessed list of tokens\n",
        "    return mytokens"
      ]
    },
    {
      "cell_type": "code",
      "execution_count": null,
      "metadata": {
        "colab": {
          "base_uri": "https://localhost:8080/"
        },
        "id": "s-sWGc8I-zS8",
        "outputId": "61c60497-bb1c-432e-bfda-b934b3c319f8"
      },
      "outputs": [
        {
          "name": "stdout",
          "output_type": "stream",
          "text": [
            "I am eating apple ?\n",
            "<class 'spacy.tokens.doc.Doc'>\n",
            "['i', 'be', 'eat', 'apple', '?']\n"
          ]
        },
        {
          "data": {
            "text/plain": [
              "['eat', 'apple']"
            ]
          },
          "execution_count": 12,
          "metadata": {},
          "output_type": "execute_result"
        }
      ],
      "source": [
        "sentence = \"I am eating apple ?\"\n",
        "spacy_tokenizer(sentence)"
      ]
    },
    {
      "cell_type": "code",
      "execution_count": null,
      "metadata": {
        "id": "6LPUz0CM-2jb"
      },
      "outputs": [],
      "source": [
        "count_vector = CountVectorizer(tokenizer = spacy_tokenizer)\n",
        "# tfidf_vector = TfidfVectorizer(tokenizer = spacy_tokenizer)"
      ]
    },
    {
      "cell_type": "code",
      "execution_count": null,
      "metadata": {
        "colab": {
          "base_uri": "https://localhost:8080/"
        },
        "id": "iEu71pvw_DkM",
        "outputId": "22508fd5-d677-43a4-f63b-8065902d868a"
      },
      "outputs": [
        {
          "data": {
            "text/plain": [
              "array([[1, 0, 1, 0],\n",
              "       [0, 1, 0, 1]])"
            ]
          },
          "execution_count": 17,
          "metadata": {},
          "output_type": "execute_result"
        }
      ],
      "source": [
        "count_vector.fit_transform([\"I am eating apple, I like apple\",\"I am playing cricket\"]).toarray() "
      ]
    },
    {
      "cell_type": "code",
      "execution_count": null,
      "metadata": {
        "colab": {
          "base_uri": "https://localhost:8080/"
        },
        "id": "e_oVh5fb2b2y",
        "outputId": "a4246423-0740-48a1-b409-39b74dd6772d"
      },
      "outputs": [
        {
          "data": {
            "text/plain": [
              "array(['apple', 'cricket', 'eat', 'play'], dtype=object)"
            ]
          },
          "execution_count": 18,
          "metadata": {},
          "output_type": "execute_result"
        }
      ],
      "source": [
        "count_vector.get_feature_names_out()"
      ]
    },
    {
      "cell_type": "code",
      "execution_count": null,
      "metadata": {
        "colab": {
          "base_uri": "https://localhost:8080/"
        },
        "id": "BXf7_6V6_Hhc",
        "outputId": "820d1887-5457-419b-f29c-0d6abb4d9427"
      },
      "outputs": [
        {
          "data": {
            "text/plain": [
              "{'eat': 2, 'apple': 0, 'play': 3, 'cricket': 1}"
            ]
          },
          "execution_count": 19,
          "metadata": {},
          "output_type": "execute_result"
        }
      ],
      "source": [
        "count_vector.vocabulary_"
      ]
    },
    {
      "cell_type": "code",
      "execution_count": null,
      "metadata": {
        "id": "qec8nyso_L7s"
      },
      "outputs": [],
      "source": [
        "from sklearn.model_selection import train_test_split\n",
        "\n",
        "X = data['comment_text'] # the features we want to analyze\n",
        "ylabels = data['toxic'] # the labels, or answers, we want to test against\n",
        "\n",
        "X_train, X_test, y_train, y_test = train_test_split(X, ylabels, test_size=0.2,stratify=ylabels)"
      ]
    },
    {
      "cell_type": "code",
      "execution_count": null,
      "metadata": {
        "id": "DGUCTrII_ZTj"
      },
      "outputs": [],
      "source": [
        "from sklearn.linear_model import LogisticRegression\n",
        "classifier = LogisticRegression()"
      ]
    },
    {
      "cell_type": "code",
      "execution_count": null,
      "metadata": {
        "id": "7hGUZTMq_kIL"
      },
      "outputs": [],
      "source": [
        "X_train_vetcors= count_vector.fit_transform(X_train)\n",
        "X_test_vetcors= count_vector.transform(X_test)"
      ]
    },
    {
      "cell_type": "code",
      "execution_count": null,
      "metadata": {
        "colab": {
          "base_uri": "https://localhost:8080/"
        },
        "id": "w6I17ZFaAlMh",
        "outputId": "87acf4d2-01e3-47a7-90cd-194b907eab45"
      },
      "outputs": [
        {
          "data": {
            "text/plain": [
              "(800, 5783)"
            ]
          },
          "execution_count": 23,
          "metadata": {},
          "output_type": "execute_result"
        }
      ],
      "source": [
        "X_train_vetcors.shape"
      ]
    },
    {
      "cell_type": "code",
      "execution_count": null,
      "metadata": {
        "colab": {
          "base_uri": "https://localhost:8080/"
        },
        "id": "JGLMunlMAoQR",
        "outputId": "6f1548e4-2058-4b99-908d-9295a74bb205"
      },
      "outputs": [
        {
          "data": {
            "text/plain": [
              "(200, 5783)"
            ]
          },
          "execution_count": 24,
          "metadata": {},
          "output_type": "execute_result"
        }
      ],
      "source": [
        "X_test_vetcors.shape"
      ]
    },
    {
      "cell_type": "code",
      "execution_count": null,
      "metadata": {
        "colab": {
          "base_uri": "https://localhost:8080/"
        },
        "id": "4KFEVYJr_H8k",
        "outputId": "7b346096-22fa-4554-e18b-df130b19a9c2"
      },
      "outputs": [
        {
          "data": {
            "text/plain": [
              "array([[0, 0, 0, ..., 0, 0, 0],\n",
              "       [0, 0, 0, ..., 0, 0, 0],\n",
              "       [0, 0, 0, ..., 0, 0, 0],\n",
              "       ...,\n",
              "       [0, 0, 0, ..., 0, 0, 0],\n",
              "       [0, 0, 0, ..., 0, 0, 0],\n",
              "       [0, 0, 0, ..., 0, 0, 0]])"
            ]
          },
          "execution_count": 26,
          "metadata": {},
          "output_type": "execute_result"
        }
      ],
      "source": [
        "X_train_vetcors.toarray()"
      ]
    },
    {
      "cell_type": "code",
      "execution_count": null,
      "metadata": {
        "colab": {
          "base_uri": "https://localhost:8080/"
        },
        "id": "Q1IfdHPiBmEU",
        "outputId": "87d01f31-abce-4bff-d9cc-aa2d5e63905c"
      },
      "outputs": [
        {
          "data": {
            "text/plain": [
              "LogisticRegression()"
            ]
          },
          "execution_count": 27,
          "metadata": {},
          "output_type": "execute_result"
        }
      ],
      "source": [
        "classifier.fit(X_train_vetcors,y_train)"
      ]
    },
    {
      "cell_type": "code",
      "execution_count": null,
      "metadata": {
        "colab": {
          "base_uri": "https://localhost:8080/"
        },
        "id": "x7IrEWeA_07S",
        "outputId": "91d33860-c05b-4d65-d4ed-7ab31e566cbe"
      },
      "outputs": [
        {
          "name": "stdout",
          "output_type": "stream",
          "text": [
            "Logistic Regression Accuracy: 0.845\n",
            "Logistic Regression Precision: 0.8709677419354839\n",
            "Logistic Regression Recall: 0.81\n"
          ]
        }
      ],
      "source": [
        "predicted = classifier.predict(X_test_vetcors)\n",
        "print(\"Logistic Regression Accuracy:\",metrics.accuracy_score(y_test, predicted))\n",
        "print(\"Logistic Regression Precision:\",metrics.precision_score(y_test, predicted))\n",
        "print(\"Logistic Regression Recall:\",metrics.recall_score(y_test, predicted))"
      ]
    },
    {
      "cell_type": "code",
      "execution_count": null,
      "metadata": {
        "id": "OCejEw89_7Pi"
      },
      "outputs": [],
      "source": [
        "tfidf_vector = TfidfVectorizer(tokenizer = spacy_tokenizer)\n",
        "X_train_vetcors= tfidf_vector.fit_transform(X_train)\n",
        "X_test_vetcors= tfidf_vector.transform(X_test)"
      ]
    },
    {
      "cell_type": "code",
      "execution_count": null,
      "metadata": {
        "colab": {
          "base_uri": "https://localhost:8080/"
        },
        "id": "a0CU5yZrDOz-",
        "outputId": "b1ee91ab-980a-48f6-d193-473f30eca01f"
      },
      "outputs": [
        {
          "name": "stdout",
          "output_type": "stream",
          "text": [
            "Logistic Regression Accuracy: 0.86\n",
            "Logistic Regression Precision: 0.9090909090909091\n",
            "Logistic Regression Recall: 0.8\n"
          ]
        }
      ],
      "source": [
        "classifier = LogisticRegression()\n",
        "classifier.fit(X_train_vetcors,y_train)\n",
        "predicted = classifier.predict(X_test_vetcors)\n",
        "print(\"Logistic Regression Accuracy:\",metrics.accuracy_score(y_test, predicted))\n",
        "print(\"Logistic Regression Precision:\",metrics.precision_score(y_test, predicted))\n",
        "print(\"Logistic Regression Recall:\",metrics.recall_score(y_test, predicted))"
      ]
    },
    {
      "cell_type": "code",
      "execution_count": null,
      "metadata": {
        "id": "SpnD_5ipD7TF"
      },
      "outputs": [],
      "source": []
    }
  ],
  "metadata": {
    "colab": {
      "authorship_tag": "ABX9TyOFJXXZC8Ax/+sCG7sdvvo6",
      "collapsed_sections": [],
      "include_colab_link": true,
      "mount_file_id": "1FO8mTz3bgIXdnyfVV5PNY5qj0sJJLGOM",
      "name": "Youtube NLP Text Representaion.ipynb",
      "provenance": []
    },
    "kernelspec": {
      "display_name": "Python 3.9.13 ('nlp')",
      "language": "python",
      "name": "python3"
    },
    "language_info": {
      "name": "python",
      "version": "3.9.13"
    },
    "vscode": {
      "interpreter": {
        "hash": "2c8084c65e210ac80286b37f95520e6539b9c1b96da2c782bc032c2b0e58e412"
      }
    }
  },
  "nbformat": 4,
  "nbformat_minor": 0
}
